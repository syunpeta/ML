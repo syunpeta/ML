{
  "nbformat": 4,
  "nbformat_minor": 0,
  "metadata": {
    "colab": {
      "provenance": []
    },
    "kernelspec": {
      "name": "python3",
      "display_name": "Python 3"
    },
    "language_info": {
      "name": "python"
    }
  },
  "cells": [
    {
      "cell_type": "code",
      "execution_count": 1,
      "metadata": {
        "id": "nN5ZQCFHCBlD"
      },
      "outputs": [],
      "source": [
        "from sklearn.datasets import load_iris\n",
        "from sklearn.model_selection import train_test_split\n",
        "from sklearn.preprocessing import StandardScaler\n",
        "from sklearn.preprocessing import LabelEncoder\n",
        "import warnings\n",
        "warnings.simplefilter('ignore')\n"
      ]
    },
    {
      "cell_type": "code",
      "source": [
        "#データセット準備\n",
        "import pandas as pd\n",
        "#ワインのクラス分け，クラス1をdropして2,3の分類をAlcoholとOD280/OD315で行う\n",
        "df_wine = pd.read_csv('https://archive.ics.uci.edu/ml/'\n",
        "                      'machine-learning-databases/wine/wine.data',\n",
        "                      header=None)\n",
        "\n",
        "df_wine.columns = ['Class label', 'Alcohol', 'Malic acid', 'Ash',\n",
        "                   'Alcalinity of ash', 'Magnesium', 'Total phenols',\n",
        "                   'Flavanoids', 'Nonflavanoid phenols', 'Proanthocyanins',\n",
        "                   'Color intensity', 'Hue', 'OD280/OD315 of diluted wines',\n",
        "                   'Proline']\n",
        "\n",
        "# drop 1 class\n",
        "df_wine = df_wine[df_wine['Class label'] != 1]\n",
        "\n",
        "y = df_wine['Class label'].values\n",
        "X = df_wine[['Alcohol', 'OD280/OD315 of diluted wines']].values\n",
        "#ラベルエンコードで2値化\n",
        "le = LabelEncoder()\n",
        "y = le.fit_transform(y)\n",
        "#標準化\n",
        "sc = StandardScaler()\n",
        "X_std = sc.fit_transform(X)\n",
        "\n",
        "#データセットを学習用と検証用に分割\n",
        "X_train, X_test, y_train, y_test = train_test_split(X, y, test_size=0.3, random_state=1, stratify=y)"
      ],
      "metadata": {
        "id": "dDcQsijsCHdM"
      },
      "execution_count": 2,
      "outputs": []
    },
    {
      "cell_type": "code",
      "source": [
        "#lightGBM,CatBoost,ランダムフォレスト\n",
        "!pip install lightgbm\n",
        "!pip install catboost\n",
        "from lightgbm import LGBMClassifier\n",
        "from catboost import CatBoostClassifier\n",
        "from sklearn.ensemble import RandomForestClassifier\n",
        "\n",
        "#LGBM\n",
        "mod_lgbm = lgb.LGBMClassifier(num_leaves = 31,\n",
        "                           num_trees = 100,\n",
        "                           objective = 'binary',\n",
        "                           metric = 'binary_logloss',\n",
        "                           silent=False,\n",
        "                              verbose = -1)\n",
        "#CatBoost\n",
        "mod_cat = CatBoostClassifier(iterations=100,\n",
        "                           eval_metric = 'Kappa',\n",
        "                           learning_rate=0.01,\n",
        "                           l2_leaf_reg = 9,\n",
        "                           depth=10,\n",
        "                           one_hot_max_size = 50,\n",
        "                           loss_function='Logloss',\n",
        "                            silent=True)\n",
        "#RandomForest\n",
        "mod_rand = RandomForestClassifier(n_estimators=10, random_state=1)"
      ],
      "metadata": {
        "id": "9FJOah3UCJWd",
        "colab": {
          "base_uri": "https://localhost:8080/"
        },
        "outputId": "c464699d-d80e-45fe-9c0a-539f2109e2ef"
      },
      "execution_count": null,
      "outputs": [
        {
          "output_type": "stream",
          "name": "stdout",
          "text": [
            "Requirement already satisfied: lightgbm in /usr/local/lib/python3.10/dist-packages (4.1.0)\n",
            "Requirement already satisfied: numpy in /usr/local/lib/python3.10/dist-packages (from lightgbm) (1.23.5)\n",
            "Requirement already satisfied: scipy in /usr/local/lib/python3.10/dist-packages (from lightgbm) (1.11.4)\n",
            "Collecting catboost\n",
            "  Downloading catboost-1.2.2-cp310-cp310-manylinux2014_x86_64.whl (98.7 MB)\n",
            "\u001b[2K     \u001b[90m━━━━━━━━━━━━━━━━━━━━━━━━━━━━━━━━━━━━━━━━\u001b[0m \u001b[32m98.7/98.7 MB\u001b[0m \u001b[31m7.7 MB/s\u001b[0m eta \u001b[36m0:00:00\u001b[0m\n",
            "\u001b[?25hRequirement already satisfied: graphviz in /usr/local/lib/python3.10/dist-packages (from catboost) (0.20.1)\n",
            "Requirement already satisfied: matplotlib in /usr/local/lib/python3.10/dist-packages (from catboost) (3.7.1)\n",
            "Requirement already satisfied: numpy>=1.16.0 in /usr/local/lib/python3.10/dist-packages (from catboost) (1.23.5)\n",
            "Requirement already satisfied: pandas>=0.24 in /usr/local/lib/python3.10/dist-packages (from catboost) (1.5.3)\n",
            "Requirement already satisfied: scipy in /usr/local/lib/python3.10/dist-packages (from catboost) (1.11.4)\n",
            "Requirement already satisfied: plotly in /usr/local/lib/python3.10/dist-packages (from catboost) (5.15.0)\n",
            "Requirement already satisfied: six in /usr/local/lib/python3.10/dist-packages (from catboost) (1.16.0)\n",
            "Requirement already satisfied: python-dateutil>=2.8.1 in /usr/local/lib/python3.10/dist-packages (from pandas>=0.24->catboost) (2.8.2)\n",
            "Requirement already satisfied: pytz>=2020.1 in /usr/local/lib/python3.10/dist-packages (from pandas>=0.24->catboost) (2023.3.post1)\n",
            "Requirement already satisfied: contourpy>=1.0.1 in /usr/local/lib/python3.10/dist-packages (from matplotlib->catboost) (1.2.0)\n",
            "Requirement already satisfied: cycler>=0.10 in /usr/local/lib/python3.10/dist-packages (from matplotlib->catboost) (0.12.1)\n",
            "Requirement already satisfied: fonttools>=4.22.0 in /usr/local/lib/python3.10/dist-packages (from matplotlib->catboost) (4.45.1)\n",
            "Requirement already satisfied: kiwisolver>=1.0.1 in /usr/local/lib/python3.10/dist-packages (from matplotlib->catboost) (1.4.5)\n",
            "Requirement already satisfied: packaging>=20.0 in /usr/local/lib/python3.10/dist-packages (from matplotlib->catboost) (23.2)\n",
            "Requirement already satisfied: pillow>=6.2.0 in /usr/local/lib/python3.10/dist-packages (from matplotlib->catboost) (9.4.0)\n",
            "Requirement already satisfied: pyparsing>=2.3.1 in /usr/local/lib/python3.10/dist-packages (from matplotlib->catboost) (3.1.1)\n",
            "Requirement already satisfied: tenacity>=6.2.0 in /usr/local/lib/python3.10/dist-packages (from plotly->catboost) (8.2.3)\n"
          ]
        }
      ]
    },
    {
      "cell_type": "code",
      "source": [
        "#VoitingClassifier\n",
        "from sklearn.ensemble import VotingClassifier\n",
        "from sklearn.metrics import roc_auc_score\n",
        "\n",
        "vc1 = VotingClassifier(estimators=[('lgbm', mod_lgbm), ('cat', mod_cat), ('rand', mod_rand)], voting='hard')\n",
        "vc2 = VotingClassifier(estimators=[('lgbm', mod_lgbm), ('cat', mod_cat), ('rand', mod_rand)], voting='soft',flatten_transform=True)\n",
        "vc3 = VotingClassifier(estimators=[('lgbm', mod_lgbm), ('cat', mod_cat), ('rand', mod_rand)], voting='soft',flatten_transform=True,weights=[5,10,30])\n",
        "vc4 = VotingClassifier(estimators=[('lgbm', mod_lgbm), ('cat', mod_cat), ('rand', mod_rand)], voting='hard',weights=[5,10,30])\n",
        "\n",
        "name_list = ['LGBM', 'CatBoost', 'Randomforest', 'voting=hard','voting=soft','voting=soft,weights=True','voting=hard,weights=True']\n",
        "est_list = [mod_lgbm, mod_cat, mod_rand, vc1,vc2,vc3,vc4]\n",
        "for mod, name in zip(est_list, name_list):\n",
        "    mod.fit(X_train, y_train)\n",
        "    print('AUC. : %.3f [%s]' % (roc_auc_score(y_true=y_test,y_score=mod.predict(X_test)),name))"
      ],
      "metadata": {
        "id": "mQeeWPctCLK0"
      },
      "execution_count": null,
      "outputs": []
    }
  ]
}